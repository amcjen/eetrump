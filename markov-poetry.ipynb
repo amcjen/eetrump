{
 "cells": [
  {
   "cell_type": "code",
   "execution_count": 1,
   "metadata": {
    "collapsed": true
   },
   "outputs": [],
   "source": [
    "import numpy as np\n",
    "import re"
   ]
  },
  {
   "cell_type": "code",
   "execution_count": 10,
   "metadata": {
    "collapsed": false
   },
   "outputs": [],
   "source": [
    "# read in the text\n",
    "f = open(r'training.txt', \"r\")\n",
    "lines = f.readlines()\n",
    "f.close()\n",
    "\n",
    "text=[]\n",
    "for line in lines:\n",
    "    for big_word in re.split(\"[, \\ - ! ? ; : ( ) .]+\",line):\n",
    "        #word = big_word.strip(' ')\n",
    "        word = big_word.strip('\\t')\n",
    "        word = word.lower()\n",
    "        word = word.replace('\\x92', \"'\")\n",
    "        word = word.replace('\\x93', '\"')\n",
    "        word = word.replace('\\x94', '\"')\n",
    "        if len(word.strip()) > 0:\n",
    "            text.append(word)\n",
    "\n",
    "# make a start node \n",
    "d = dict(start = [])\n",
    "# make a node for each word (that has a word after it)\n",
    "for i_word in range(len(text)):\n",
    "    if i_word < 1:\n",
    "        continue\n",
    "    this_word = text[i_word]\n",
    "    previous_word = text[i_word -1]\n",
    "    \n",
    "    # if the previous word has a period after it, add our word to the start node.\n",
    "    if '\\n' in previous_word:\n",
    "        d['start'].append(this_word)\n",
    "        continue\n",
    "    \n",
    "    # go through each word and add it to the node of the previous word    \n",
    "    if previous_word not in d and len(this_word.strip()) > 0:\n",
    "        d[previous_word] = [this_word]\n",
    "    else:\n",
    "        d[previous_word].append(this_word)\n"
   ]
  },
  {
   "cell_type": "code",
   "execution_count": 20,
   "metadata": {
    "collapsed": false
   },
   "outputs": [],
   "source": [
    "# make our text\n",
    "k = sorted(d.keys())\n",
    "out = \"\"\n",
    "r = np.random.randint(0, len(d['start']))\n",
    "current_word=d['start'][r]\n",
    "words = 0\n",
    "\n",
    "lines = 0\n",
    "while words < 120:\n",
    "    out = out + current_word + \" \"\n",
    "    if np.random.randint(0,5) > 4:\n",
    "        out = out + '\\n'\n",
    "    #our first word should always be in here\n",
    "    if current_word in d.keys():\n",
    "        r = np.random.randint(0, len(d[current_word]))\n",
    "        current_word = d[current_word][r]\n",
    "    else: #seed a new sentence\n",
    "        lines = lines +1\n",
    "        r = np.random.randint(0, len(d['start']))\n",
    "        current_word = k[np.random.randint(0,len(k))]\n",
    "    words = words +1"
   ]
  },
  {
   "cell_type": "code",
   "execution_count": 22,
   "metadata": {
    "collapsed": false
   },
   "outputs": [
    {
     "name": "stdout",
     "output_type": "stream",
     "text": [
      "thy feet upon the pawn shop and\n",
      " commissioned gerald r ford and opens only something in whose fruit is about you are more than anything\n",
      " marine strike fighter aircraft carrier the heart of spring\n",
      " tools equipment resources and justice the pawn your\n",
      " measles were lovely and coastguardsmen the air in whose fruit is an investment in such a hat that to close me not a lie life safely beyond plays with thinned\n",
      " rendering death and we are to achieve full and to continue to meet them we will unclose me\n",
      " opens only something in whose kiss is darkness\n",
      " investing in whose kiss is possible let us seize this world equals\n",
      " within the men and life would be in the people \n"
     ]
    }
   ],
   "source": [
    "print(out)"
   ]
  },
  {
   "cell_type": "code",
   "execution_count": null,
   "metadata": {
    "collapsed": true
   },
   "outputs": [],
   "source": []
  }
 ],
 "metadata": {
  "kernelspec": {
   "display_name": "Python 3",
   "language": "python",
   "name": "python3"
  },
  "language_info": {
   "codemirror_mode": {
    "name": "ipython",
    "version": 3
   },
   "file_extension": ".py",
   "mimetype": "text/x-python",
   "name": "python",
   "nbconvert_exporter": "python",
   "pygments_lexer": "ipython3",
   "version": "3.6.0"
  }
 },
 "nbformat": 4,
 "nbformat_minor": 2
}
